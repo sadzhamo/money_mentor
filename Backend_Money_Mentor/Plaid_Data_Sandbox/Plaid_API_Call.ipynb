{
 "cells": [
  {
   "cell_type": "code",
   "execution_count": 1,
   "metadata": {},
   "outputs": [],
   "source": [
    "import requests\n",
    "from datetime import datetime\n",
    "import time\n",
    "import pandas as pd"
   ]
  },
  {
   "cell_type": "code",
   "execution_count": 2,
   "metadata": {},
   "outputs": [],
   "source": [
    "# Please insert your own plaid keys\n",
    "\n",
    "import sys\n",
    "sys.path.append('../Gamefication-Retirement/KeysPlaid')\n",
    "\n",
    "import Plaid_Keys\n",
    "\n",
    "PLAID_CLIENT_ID = Plaid_Keys.PLAID_CLIENT_ID\n",
    "PLAID_SECRET = Plaid_Keys.PLAID_SECRET\n",
    "PLAID_ENV = Plaid_Keys.PLAID_ENV"
   ]
  },
  {
   "cell_type": "markdown",
   "metadata": {},
   "source": [
    "### Defining our Functions"
   ]
  },
  {
   "cell_type": "code",
   "execution_count": 3,
   "metadata": {},
   "outputs": [],
   "source": [
    "def get_access_token(public_token):\n",
    "    payload = {\n",
    "        'client_id': PLAID_CLIENT_ID,\n",
    "        'secret': PLAID_SECRET,\n",
    "        'public_token': public_token\n",
    "    }\n",
    "    response = requests.post(f'{PLAID_ENV}/item/public_token/exchange', json=payload)\n",
    "    return response.json()['access_token']\n",
    "\n",
    "def create_public_token():\n",
    "    payload = {\n",
    "        'client_id': PLAID_CLIENT_ID,\n",
    "        'secret': PLAID_SECRET,\n",
    "        'institution_id': 'ins_1',  # Sandbox institution ID\n",
    "        'initial_products': ['transactions']\n",
    "    }\n",
    "    response = requests.post(f'{PLAID_ENV}/sandbox/public_token/create', json=payload)\n",
    "    return response.json()['public_token']\n",
    "\n",
    "\n",
    "def get_transactions(access_token, start_date, end_date):\n",
    "    payload = {\n",
    "        'client_id': PLAID_CLIENT_ID,\n",
    "        'secret': PLAID_SECRET,\n",
    "        'access_token': access_token,\n",
    "        'start_date': start_date,\n",
    "        'end_date': end_date,\n",
    "        'options': {\n",
    "            'count': 500,\n",
    "        }\n",
    "    }\n",
    "    response = requests.post(f'{PLAID_ENV}/transactions/get', json=payload)\n",
    "    return response.json()\n",
    "\n",
    "def poll_transactions(access_token, start_date, end_date, max_retries=5, delay=5):\n",
    "    for attempt in range(max_retries):\n",
    "        response = get_transactions(access_token, start_date, end_date)\n",
    "        if response.get('error_code') != 'PRODUCT_NOT_READY':\n",
    "            return response\n",
    "        time.sleep(delay)\n",
    "    return response\n"
   ]
  },
  {
   "cell_type": "markdown",
   "metadata": {},
   "source": [
    "### Now Lets get our transaction response and append to CSV"
   ]
  },
  {
   "cell_type": "code",
   "execution_count": 4,
   "metadata": {},
   "outputs": [],
   "source": [
    "public_token = create_public_token()\n",
    "access_token = get_access_token(public_token)\n",
    "\n",
    "start_date = datetime(2018, 1, 1).strftime('%Y-%m-%d')\n",
    "end_date = datetime.now().strftime('%Y-%m-%d')\n",
    "\n",
    "transactions_response = poll_transactions(access_token, start_date, end_date)"
   ]
  },
  {
   "cell_type": "code",
   "execution_count": 5,
   "metadata": {},
   "outputs": [],
   "source": [
    "transactions_df = transactions_response.get('transactions', [])\n",
    "\n",
    "df = pd.DataFrame(transactions_df)\n",
    "\n",
    "csv_filename = 'transactions.csv'\n",
    "df.to_csv(csv_filename, index=False)"
   ]
  }
 ],
 "metadata": {
  "kernelspec": {
   "display_name": "Python 3",
   "language": "python",
   "name": "python3"
  },
  "language_info": {
   "codemirror_mode": {
    "name": "ipython",
    "version": 3
   },
   "file_extension": ".py",
   "mimetype": "text/x-python",
   "name": "python",
   "nbconvert_exporter": "python",
   "pygments_lexer": "ipython3",
   "version": "3.10.12"
  }
 },
 "nbformat": 4,
 "nbformat_minor": 2
}
